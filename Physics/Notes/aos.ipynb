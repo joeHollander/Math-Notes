{
 "cells": [
  {
   "cell_type": "code",
   "execution_count": 41,
   "metadata": {},
   "outputs": [],
   "source": [
    "import pandas as pd\n",
    "import numpy as np\n",
    "import matplotlib.pyplot as plt \n",
    "import random\n",
    "import scipy.stats as stats"
   ]
  },
  {
   "cell_type": "code",
   "execution_count": 34,
   "metadata": {},
   "outputs": [
    {
     "name": "stdout",
     "output_type": "stream",
     "text": [
      "0.5459189161795885\n",
      "normal : (0.1687503745664904, 0.9230874577926866)\n",
      "percentile : (0.20911781652374317, 0.9256226845240478)\n",
      "pivotal : (0.16621514783512925, 0.8827200158354339)\n"
     ]
    }
   ],
   "source": [
    "#8.6.1\n",
    "def samp_corr(X):\n",
    "    Y = [i[0] for i in X]\n",
    "    Z = [i[1] for i in X]\n",
    "    Ybar = np.mean(Y)\n",
    "    Zbar = np.mean(Z)\n",
    "    numerator = sum([(Y[i] - Ybar) * (Z[i] - Zbar) for i in range(len(Y))])\n",
    "    denominator = np.sqrt(sum([(Y[i] - Ybar)**2 for i in range(len(Y))]) * sum([(Z[i] - Zbar)**2 for i in range(len(Z))]))\n",
    "    return numerator/denominator\n",
    "\n",
    "lsat = [576, 635, 558, 578, 666, 580, 555, 661, 651, 605, 653, 575, 545, 572, 594]\n",
    "gpa = [3.39, 3.3, 2.81, 3.03, 3.44, 3.07, 3.00, 3.43, 3.36, 3.13, 3.12, 2.74, 2.76, 2.88, 3.96]\n",
    "X = [(lsat[i], gpa[i]) for i in range(len(lsat))]\n",
    "\n",
    "original_samp_corr = samp_corr(X)\n",
    "\n",
    "tboot = [samp_corr(random.choices(X, k=len(X))) for i in range(1000)]\n",
    "se = np.sqrt(np.var(tboot))\n",
    "normal = (original_samp_corr - 2*se, original_samp_corr + 2*se)\n",
    "percentile = (np.percentile(tboot, 100 * 0.025), np.percentile(tboot, 100 * 0.975))\n",
    "pivotal = (2*original_samp_corr - np.percentile(tboot, 100 * 0.975), 2*original_samp_corr - np.percentile(tboot, 100 * 0.025))\n",
    "\n",
    "print(original_samp_corr)\n",
    "print(\"normal :\", normal)\n",
    "print(\"percentile :\", percentile)\n",
    "print(\"pivotal :\", pivotal)"
   ]
  },
  {
   "cell_type": "code",
   "execution_count": null,
   "metadata": {},
   "outputs": [
    {
     "name": "stdout",
     "output_type": "stream",
     "text": [
      "3.5602055133057853\n",
      "normal : (1.7436630348002677, 5.376747991811303)\n",
      "percentile : (0.9705840454978487, 4.721793030802767)\n",
      "pivotal : (2.398617995808803, 6.149826981113722)\n"
     ]
    }
   ],
   "source": [
    "#8.6.2\n",
    "Y = np.random.normal(0, 1, 50)\n",
    "X = [np.exp(i) for i in Y]\n",
    "\n",
    "original_skew = stats.skew(X) \n",
    "sboot = [stats.skew(random.choices(X, k=len(X))) for i in range(1000)]\n",
    "se = np.sqrt(np.var(sboot))\n",
    "normal = (original_skew - 2*se, original_skew + 2*se)\n",
    "percentile = (np.percentile(sboot, 100 * 0.025), np.percentile(sboot, 100 * 0.975))\n",
    "pivotal = (2*original_skew - np.percentile(sboot, 100 * 0.975), 2*original_skew - np.percentile(sboot, 100 * 0.025))\n",
    "\n",
    "print(original_skew)\n",
    "print(\"normal :\", normal)\n",
    "print(\"percentile :\", percentile)\n",
    "print(\"pivotal :\", pivotal)"
   ]
  },
  {
   "cell_type": "code",
   "execution_count": 40,
   "metadata": {},
   "outputs": [
    {
     "name": "stdout",
     "output_type": "stream",
     "text": [
      "0.15874905889544538\n",
      "normal : (-0.006098925561010382, 0.32359704335190115)\n",
      "percentile : (0.0, 0.25392393077287834)\n",
      "pivotal : (0.06357418701801243, 0.31749811779089077)\n"
     ]
    }
   ],
   "source": [
    "#8.6.3\n",
    "X = np.random.standard_t(3, 25)\n",
    "def T(X):\n",
    "    return (np.percentile(X, 0.75) - np.percentile(X, 0.25))/1.34\n",
    "\n",
    "original_T = T(X)\n",
    "\n",
    "Tboot = [T(random.choices(X, k=len(X))) for i in range(1000)]\n",
    "se = np.sqrt(np.var(Tboot))\n",
    "normal = (original_T - 2*se, original_T + 2*se)\n",
    "percentile = (np.percentile(Tboot, 100 * 0.025), np.percentile(Tboot, 100 * 0.975))\n",
    "pivotal = (2*original_T - np.percentile(Tboot, 100 * 0.975), 2*original_T - np.percentile(Tboot, 100 * 0.025))\n",
    "\n",
    "print(original_T)\n",
    "print(\"normal :\", normal)\n",
    "print(\"percentile :\", percentile)\n",
    "print(\"pivotal :\", pivotal)"
   ]
  },
  {
   "cell_type": "code",
   "execution_count": 56,
   "metadata": {},
   "outputs": [
    {
     "name": "stdout",
     "output_type": "stream",
     "text": [
      "1.1908 1.817554224775701 4.180410658803283\n",
      "0.5575801038636548\n"
     ]
    },
    {
     "data": {
      "text/plain": [
       "(3.087573736734417, 5.273247580872149)"
      ]
     },
     "execution_count": 56,
     "metadata": {},
     "output_type": "execute_result"
    }
   ],
   "source": [
    "#9.14.3\n",
    "X = [3.23, -2.5, 1.88, -0.68, 4.43, 0.17,\n",
    "    1.03, -0.07, -0.01, 0.76, 1.76, 3.18,\n",
    "    0.33, -0.31, 0.3, -0.61, 1.52, 5.43,\n",
    "    1.54, 2.28, 0.42, 2.33, -1.03, 4, 0.39]\n",
    "\n",
    "mu = np.mean(X)\n",
    "sigma = np.std(X)\n",
    "tau = mu + sigma * stats.norm.ppf(0.95)\n",
    "n = len(X)\n",
    "se = sigma * np.sqrt((1+0.5 * stats.norm.ppf(0.95)**2)/n)\n",
    "print(mu, sigma, tau)\n",
    "print(se)\n",
    "tau + se * stats.norm.ppf(0.025), tau + se * stats.norm.ppf(0.975)"
   ]
  },
  {
   "cell_type": "code",
   "execution_count": 55,
   "metadata": {},
   "outputs": [
    {
     "data": {
      "text/plain": [
       "0.5567767056417542"
      ]
     },
     "execution_count": 55,
     "metadata": {},
     "output_type": "execute_result"
    }
   ],
   "source": [
    "def T(X):\n",
    "    mu = np.mean(X)\n",
    "    sigma = np.std(X)\n",
    "    return mu + sigma * stats.norm.ppf(0.95)\n",
    "\n",
    "tboot = [T(np.random.normal(loc=mu, scale=sigma, size=n)) for i in range(1000)]\n",
    "np.sqrt(np.var(tboot))"
   ]
  }
 ],
 "metadata": {
  "kernelspec": {
   "display_name": "qfi",
   "language": "python",
   "name": "python3"
  },
  "language_info": {
   "codemirror_mode": {
    "name": "ipython",
    "version": 3
   },
   "file_extension": ".py",
   "mimetype": "text/x-python",
   "name": "python",
   "nbconvert_exporter": "python",
   "pygments_lexer": "ipython3",
   "version": "3.12.4"
  }
 },
 "nbformat": 4,
 "nbformat_minor": 2
}
